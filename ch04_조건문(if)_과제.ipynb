{
 "cells": [
  {
   "cell_type": "code",
   "execution_count": 1,
   "id": "37c04d25",
   "metadata": {},
   "outputs": [
    {
     "name": "stdout",
     "output_type": "stream",
     "text": [
      "본인의 학점을 입력해주세요: 4.5\n",
      "A\n"
     ]
    }
   ],
   "source": [
    "# 문제2. 학점계산기\n",
    "\n",
    "# 1. 사용자로부터 학점 입력(소수점, ex: 4,2)\n",
    "score = float(input(\"본인의 학점을 입력해주세요: \"))\n",
    "\n",
    "# + 추가조건: 사용자가 입력한 값이 0.0~4.5이면 2번으로 넘어감,\n",
    "#            아니면 error문구 출력(0.0~4.5사이의 값을 입력해주세요.)\n",
    "\n",
    "# 2. 입력받은 학점에 따라 등급 출력\n",
    "# 4.0~4.5 A\n",
    "# 3.5~3.9 B\n",
    "# 3.0~3.4 C\n",
    "# 2.5~2.9 D\n",
    "# 그 외 F\n",
    "\n",
    "\n",
    "if score <= 4.5 and score >= 4.0:\n",
    "    print(\"A\")\n",
    "elif score <= 3.9 and score >= 3.5:\n",
    "    print(\"B\")\n",
    "elif score <= 3.4 and score >= 3.0:\n",
    "    print(\"C\")\n",
    "elif score <= 2.9 and score >= 2.5:\n",
    "    print(\"D\")\n",
    "else:\n",
    "    print(\"F\")"
   ]
  },
  {
   "cell_type": "code",
   "execution_count": 2,
   "id": "23a0a839",
   "metadata": {},
   "outputs": [
    {
     "name": "stdout",
     "output_type": "stream",
     "text": [
      "본인의 학점을 입력해주세요: 5.0\n",
      "0.0 ~ 4.5 사이의 값을 입력해주세요.\n"
     ]
    }
   ],
   "source": [
    "# 2번 추가문제\n",
    "\n",
    "score = float(input(\"본인의 학점을 입력해주세요: \"))\n",
    "\n",
    "if score <= 4.5 and score >= 0.0:\n",
    "    if score <= 4.5 and score >= 4.0:\n",
    "        print(\"A\")\n",
    "    elif score <= 3.9 and score >= 3.5:\n",
    "        print(\"B\")\n",
    "    elif score <= 3.4 and score >= 3.0:\n",
    "        print(\"C\")\n",
    "    elif score <= 2.9 and e >= 2.5:\n",
    "        print(\"D\")\n",
    "    else:\n",
    "        print(\"F\")\n",
    "else:\n",
    "    print(\"0.0 ~ 4.5 사이의 값을 입력해주세요.\")"
   ]
  }
 ],
 "metadata": {
  "kernelspec": {
   "display_name": "Python 3 (ipykernel)",
   "language": "python",
   "name": "python3"
  },
  "language_info": {
   "codemirror_mode": {
    "name": "ipython",
    "version": 3
   },
   "file_extension": ".py",
   "mimetype": "text/x-python",
   "name": "python",
   "nbconvert_exporter": "python",
   "pygments_lexer": "ipython3",
   "version": "3.9.13"
  }
 },
 "nbformat": 4,
 "nbformat_minor": 5
}
